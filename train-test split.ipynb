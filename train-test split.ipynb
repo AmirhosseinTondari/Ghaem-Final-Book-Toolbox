{
 "cells": [
  {
   "cell_type": "code",
   "execution_count": 1,
   "id": "e45aa893",
   "metadata": {},
   "outputs": [],
   "source": [
    "import os, shutil\n",
    "import numpy as np"
   ]
  },
  {
   "cell_type": "code",
   "execution_count": 16,
   "id": "1bb38a4d",
   "metadata": {},
   "outputs": [],
   "source": [
    "path = \"tf_model/data\"\n",
    "\n",
    "data_counts = {}\n",
    "for item in os.listdir(f\"{path}/all\"):\n",
    "    data_counts[item] = len(os.listdir(f\"{path}/all/{item}\"))"
   ]
  },
  {
   "cell_type": "code",
   "execution_count": 17,
   "id": "c01dfeba",
   "metadata": {},
   "outputs": [
    {
     "data": {
      "text/plain": [
       "{'0': 0,\n",
       " '1': 2,\n",
       " '2': 10,\n",
       " '3': 462,\n",
       " '4': 88,\n",
       " '5': 297,\n",
       " '6': 235,\n",
       " '7': 108,\n",
       " '8': 102,\n",
       " '9': 1}"
      ]
     },
     "execution_count": 17,
     "metadata": {},
     "output_type": "execute_result"
    }
   ],
   "source": [
    "data_counts"
   ]
  },
  {
   "cell_type": "markdown",
   "id": "e40aadd9",
   "metadata": {},
   "source": [
    "{'0': 77,\n",
    " '1': 79,\n",
    " '2': 87,\n",
    " '3': 539,\n",
    " '4': 165,\n",
    " '5': 374,\n",
    " '6': 312,\n",
    " '7': 185,\n",
    " '8': 179,\n",
    " '9': 78}"
   ]
  },
  {
   "cell_type": "code",
   "execution_count": 11,
   "id": "965f5f48",
   "metadata": {},
   "outputs": [],
   "source": [
    "for item in os.listdir(f\"{path}/all\"):\n",
    "    choices = np.random.choice(os.listdir(f\"{path}/all/{item}\"), size=20, replace=False)\n",
    "    for choice in choices:\n",
    "        if not os.path.isdir(f\"{path}/test/{item}/\"):\n",
    "            os.makedirs(f\"{path}/test/{item}/\")\n",
    "        shutil.move(f\"{path}/all/{item}/{choice}\", f\"{path}/test/{item}/{choice}\", )"
   ]
  },
  {
   "cell_type": "code",
   "execution_count": 14,
   "id": "940a04fe",
   "metadata": {},
   "outputs": [],
   "source": [
    "for item in os.listdir(f\"{path}/all\"):\n",
    "    choices = np.random.choice(os.listdir(f\"{path}/all/{item}\"), size=57, replace=False)\n",
    "    for choice in choices:\n",
    "        if not os.path.isdir(f\"{path}/train/{item}/\"):\n",
    "            os.makedirs(f\"{path}/train/{item}/\")\n",
    "        shutil.move(f\"{path}/all/{item}/{choice}\", f\"{path}/train/{item}/{choice}\", )"
   ]
  },
  {
   "cell_type": "code",
   "execution_count": null,
   "id": "b0ef66c2",
   "metadata": {},
   "outputs": [],
   "source": []
  }
 ],
 "metadata": {
  "kernelspec": {
   "display_name": "Python 3 (ipykernel)",
   "language": "python",
   "name": "python3"
  },
  "language_info": {
   "codemirror_mode": {
    "name": "ipython",
    "version": 3
   },
   "file_extension": ".py",
   "mimetype": "text/x-python",
   "name": "python",
   "nbconvert_exporter": "python",
   "pygments_lexer": "ipython3",
   "version": "3.10.11"
  }
 },
 "nbformat": 4,
 "nbformat_minor": 5
}
