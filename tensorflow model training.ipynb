{
 "cells": [
  {
   "cell_type": "code",
   "execution_count": 1,
   "id": "94f11094",
   "metadata": {},
   "outputs": [],
   "source": [
    "import fitz\n",
    "import matplotlib.pyplot as plt\n",
    "import numpy as np\n",
    "import cv2 as cv\n",
    "from io import BytesIO\n",
    "from PIL import Image\n",
    "import os\n",
    "from tqdm import tqdm\n",
    "from time import time\n",
    "\n",
    "import tensorflow as tf\n",
    "from tensorflow.keras.preprocessing.image import load_img, img_to_array, ImageDataGenerator\n",
    "from tensorflow.keras.utils import image_dataset_from_directory as imreader\n",
    "from tensorflow.keras.models import Sequential\n",
    "from tensorflow.keras.layers import Dense, Conv2D, AveragePooling2D, InputLayer, Flatten, Resizing\n",
    "from tensorflow.keras import losses, optimizers, metrics"
   ]
  },
  {
   "cell_type": "code",
   "execution_count": 2,
   "id": "3852f011",
   "metadata": {},
   "outputs": [
    {
     "name": "stdout",
     "output_type": "stream",
     "text": [
      "Found 570 files belonging to 10 classes.\n",
      "Using 496 files for training.\n",
      "Found 570 files belonging to 10 classes.\n",
      "Using 74 files for validation.\n",
      "Found 1505 files belonging to 10 classes.\n"
     ]
    }
   ],
   "source": [
    "train_ds = imreader(\"tf_model/data/train/\",\n",
    "                subset='training',\n",
    "                validation_split=0.13,\n",
    "                seed=123,\n",
    "                color_mode=\"grayscale\", \n",
    "                batch_size=8, \n",
    "                image_size=(20,20))\n",
    "\n",
    "val_ds = imreader(\"tf_model/data/train/\",\n",
    "                subset='validation',\n",
    "                validation_split=0.13,\n",
    "                seed=123,\n",
    "                color_mode=\"grayscale\", \n",
    "                batch_size=8, \n",
    "                image_size=(20,20))\n",
    "test_ds = imreader(\"tf_model/data/test//\",\n",
    "                color_mode=\"grayscale\", \n",
    "                batch_size=8, \n",
    "                image_size=(20,20))"
   ]
  },
  {
   "cell_type": "code",
   "execution_count": 3,
   "id": "b3aa2cdb",
   "metadata": {},
   "outputs": [],
   "source": [
    "conv2d = [64, 64]\n",
    "kernelsize = (3,3)\n",
    "poolsize = (2,2)\n",
    "activation = \"relu\""
   ]
  },
  {
   "cell_type": "code",
   "execution_count": 4,
   "id": "e9a124dc",
   "metadata": {},
   "outputs": [],
   "source": [
    "model = Sequential()\n",
    "model.add(InputLayer((20,20,1)))\n",
    "\n",
    "for f in conv2d:\n",
    "    model.add(Conv2D(f, kernel_size=kernelsize, activation=activation))\n",
    "    model.add(AveragePooling2D(pool_size=poolsize, padding=\"same\"))\n",
    "\n",
    "model.add(Flatten())\n",
    "model.add(Dense(128, activation=activation))\n",
    "model.add(Dense(10, activation=\"linear\"))"
   ]
  },
  {
   "cell_type": "code",
   "execution_count": 5,
   "id": "b9a77ee9",
   "metadata": {},
   "outputs": [],
   "source": [
    "model.compile(optimizer=optimizers.Adam(), \n",
    "              loss=losses.SparseCategoricalCrossentropy(from_logits=True),\n",
    "              metrics=metrics.SparseCategoricalAccuracy())"
   ]
  },
  {
   "cell_type": "code",
   "execution_count": 14,
   "id": "12a0afb1",
   "metadata": {},
   "outputs": [
    {
     "name": "stdout",
     "output_type": "stream",
     "text": [
      "62/62 [==============================] - 0s 4ms/step - loss: 0.0092 - sparse_categorical_accuracy: 0.9980 - val_loss: 3.5680e-04 - val_sparse_categorical_accuracy: 1.0000\n"
     ]
    }
   ],
   "source": [
    "history = model.fit(train_ds, validation_data=val_ds, use_multiprocessing=True, epochs=1)"
   ]
  },
  {
   "cell_type": "code",
   "execution_count": 7,
   "id": "ceb62341",
   "metadata": {},
   "outputs": [
    {
     "name": "stdout",
     "output_type": "stream",
     "text": [
      "Model: \"sequential\"\n",
      "_________________________________________________________________\n",
      " Layer (type)                Output Shape              Param #   \n",
      "=================================================================\n",
      " conv2d (Conv2D)             (None, 18, 18, 64)        640       \n",
      "                                                                 \n",
      " average_pooling2d (Average  (None, 9, 9, 64)          0         \n",
      " Pooling2D)                                                      \n",
      "                                                                 \n",
      " conv2d_1 (Conv2D)           (None, 7, 7, 64)          36928     \n",
      "                                                                 \n",
      " average_pooling2d_1 (Avera  (None, 4, 4, 64)          0         \n",
      " gePooling2D)                                                    \n",
      "                                                                 \n",
      " flatten (Flatten)           (None, 1024)              0         \n",
      "                                                                 \n",
      " dense (Dense)               (None, 128)               131200    \n",
      "                                                                 \n",
      " dense_1 (Dense)             (None, 10)                1290      \n",
      "                                                                 \n",
      "=================================================================\n",
      "Total params: 170058 (664.29 KB)\n",
      "Trainable params: 170058 (664.29 KB)\n",
      "Non-trainable params: 0 (0.00 Byte)\n",
      "_________________________________________________________________\n"
     ]
    }
   ],
   "source": [
    "model.summary()"
   ]
  },
  {
   "cell_type": "code",
   "execution_count": 15,
   "id": "d765ba6a",
   "metadata": {},
   "outputs": [
    {
     "name": "stdout",
     "output_type": "stream",
     "text": [
      "189/189 [==============================] - 0s 2ms/step - loss: 3.1101e-04 - sparse_categorical_accuracy: 1.0000\n"
     ]
    },
    {
     "data": {
      "text/plain": [
       "[0.00031100650085136294, 1.0]"
      ]
     },
     "execution_count": 15,
     "metadata": {},
     "output_type": "execute_result"
    }
   ],
   "source": [
    "model.evaluate(test_ds)"
   ]
  },
  {
   "cell_type": "code",
   "execution_count": 20,
   "id": "cf5673ca",
   "metadata": {},
   "outputs": [
    {
     "name": "stdout",
     "output_type": "stream",
     "text": [
      "INFO:tensorflow:Assets written to: tf_model/models/conv_model/model\\assets\n"
     ]
    },
    {
     "name": "stderr",
     "output_type": "stream",
     "text": [
      "INFO:tensorflow:Assets written to: tf_model/models/conv_model/model\\assets\n"
     ]
    }
   ],
   "source": [
    "model.save_weights(\"tf_model/models/conv_model/w\")\n",
    "model.save(\"tf_model/models/conv_model/model\")"
   ]
  },
  {
   "cell_type": "code",
   "execution_count": 17,
   "id": "ae80f8a0",
   "metadata": {},
   "outputs": [],
   "source": [
    "resizer = Resizing(20,20)"
   ]
  },
  {
   "cell_type": "code",
   "execution_count": 18,
   "id": "3df9db91",
   "metadata": {},
   "outputs": [
    {
     "name": "stdout",
     "output_type": "stream",
     "text": [
      "1/1 [==============================] - 0s 12ms/step\n",
      "tf.Tensor([3], shape=(1,), dtype=int64)\n",
      "1/1 [==============================] - 0s 12ms/step\n",
      "tf.Tensor([6], shape=(1,), dtype=int64)\n",
      "1/1 [==============================] - 0s 11ms/step\n",
      "tf.Tensor([4], shape=(1,), dtype=int64)\n",
      "1/1 [==============================] - 0s 11ms/step\n",
      "tf.Tensor([4], shape=(1,), dtype=int64)\n",
      "1/1 [==============================] - 0s 12ms/step\n",
      "tf.Tensor([4], shape=(1,), dtype=int64)\n"
     ]
    }
   ],
   "source": [
    "tests = []\n",
    "for file in os.listdir(\"tf_model/data/numpy/\"):\n",
    "    test = np.load(f\"tf_model/data/numpy/{file}\")\n",
    "    tests.append(test)\n",
    "    test = np.expand_dims(test, axis=(0,-1))\n",
    "    test = resizer(test)\n",
    "    print(tf.argmax(tf.nn.softmax(model.predict(test)), axis=1))"
   ]
  },
  {
   "cell_type": "code",
   "execution_count": 19,
   "id": "b1327e2d",
   "metadata": {},
   "outputs": [
    {
     "data": {
      "text/plain": [
       "(29, 17)"
      ]
     },
     "execution_count": 19,
     "metadata": {},
     "output_type": "execute_result"
    }
   ],
   "source": [
    "tests[1].shape"
   ]
  },
  {
   "cell_type": "code",
   "execution_count": 13,
   "id": "7c652044",
   "metadata": {},
   "outputs": [
    {
     "name": "stdout",
     "output_type": "stream",
     "text": [
      "1/1 [==============================] - 0s 12ms/step\n"
     ]
    },
    {
     "data": {
      "text/plain": [
       "<tf.Tensor: shape=(1, 10), dtype=float32, numpy=\n",
       "array([[4.0545544e-08, 2.4269549e-04, 5.6589092e-06, 2.6495873e-06,\n",
       "        9.9929237e-01, 3.6653614e-04, 5.6155832e-06, 8.1094273e-05,\n",
       "        9.3981140e-07, 2.3448245e-06]], dtype=float32)>"
      ]
     },
     "execution_count": 13,
     "metadata": {},
     "output_type": "execute_result"
    }
   ],
   "source": [
    "img = resizer(np.expand_dims(img_to_array(load_img(\"tf_model/data/test/4/048_2.png\", color_mode=\"grayscale\")), axis=0))\n",
    "tf.nn.softmax(model.predict(img))"
   ]
  },
  {
   "cell_type": "code",
   "execution_count": null,
   "id": "b86b038e",
   "metadata": {},
   "outputs": [],
   "source": []
  }
 ],
 "metadata": {
  "kernelspec": {
   "display_name": "Python 3 (ipykernel)",
   "language": "python",
   "name": "python3"
  },
  "language_info": {
   "codemirror_mode": {
    "name": "ipython",
    "version": 3
   },
   "file_extension": ".py",
   "mimetype": "text/x-python",
   "name": "python",
   "nbconvert_exporter": "python",
   "pygments_lexer": "ipython3",
   "version": "3.8.18"
  }
 },
 "nbformat": 4,
 "nbformat_minor": 5
}
